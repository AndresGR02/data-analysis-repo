{
  "nbformat": 4,
  "nbformat_minor": 0,
  "metadata": {
    "colab": {
      "provenance": []
    },
    "kernelspec": {
      "name": "python3",
      "display_name": "Python 3"
    },
    "language_info": {
      "name": "python"
    }
  },
  "cells": [
    {
      "cell_type": "code",
      "execution_count": 3,
      "metadata": {
        "colab": {
          "base_uri": "https://localhost:8080/",
          "height": 34
        },
        "id": "DxLdl8nShwcE",
        "outputId": "fcd28f86-da8a-41ef-b8b6-94dd868aeb99"
      },
      "outputs": [
        {
          "output_type": "display_data",
          "data": {
            "text/plain": [
              "<IPython.core.display.Javascript object>"
            ],
            "application/javascript": [
              "\n",
              "    async function download(id, filename, size) {\n",
              "      if (!google.colab.kernel.accessAllowed) {\n",
              "        return;\n",
              "      }\n",
              "      const div = document.createElement('div');\n",
              "      const label = document.createElement('label');\n",
              "      label.textContent = `Downloading \"${filename}\": `;\n",
              "      div.appendChild(label);\n",
              "      const progress = document.createElement('progress');\n",
              "      progress.max = size;\n",
              "      div.appendChild(progress);\n",
              "      document.body.appendChild(div);\n",
              "\n",
              "      const buffers = [];\n",
              "      let downloaded = 0;\n",
              "\n",
              "      const channel = await google.colab.kernel.comms.open(id);\n",
              "      // Send a message to notify the kernel that we're ready.\n",
              "      channel.send({})\n",
              "\n",
              "      for await (const message of channel.messages) {\n",
              "        // Send a message to notify the kernel that we're ready.\n",
              "        channel.send({})\n",
              "        if (message.buffers) {\n",
              "          for (const buffer of message.buffers) {\n",
              "            buffers.push(buffer);\n",
              "            downloaded += buffer.byteLength;\n",
              "            progress.value = downloaded;\n",
              "          }\n",
              "        }\n",
              "      }\n",
              "      const blob = new Blob(buffers, {type: 'application/binary'});\n",
              "      const a = document.createElement('a');\n",
              "      a.href = window.URL.createObjectURL(blob);\n",
              "      a.download = filename;\n",
              "      div.appendChild(a);\n",
              "      a.click();\n",
              "      div.remove();\n",
              "    }\n",
              "  "
            ]
          },
          "metadata": {}
        },
        {
          "output_type": "display_data",
          "data": {
            "text/plain": [
              "<IPython.core.display.Javascript object>"
            ],
            "application/javascript": [
              "download(\"download_7a841cec-1f80-4b4a-bc47-070b64521b8d\", \"Japan.html\", 3133)"
            ]
          },
          "metadata": {}
        },
        {
          "output_type": "stream",
          "name": "stdout",
          "text": [
            "La distancia entre las dos ubicaciones es de 13130.62533876914 km\n"
          ]
        }
      ],
      "source": [
        "#1. Individual\n",
        "#A. Van a buscar un lugar donde a ustedes les gustaría visitar\n",
        "#B. Calcular la distancia de ese lugar con CR\n",
        "#C. Generar el Mapa en HTML de ese lugar\n",
        "#D. Subir el código en Python y el Mapa\n",
        "\n",
        "from geopy.distance import geodesic\n",
        "from google.colab import files\n",
        "import folium\n",
        "from geopy.geocoders import Nominatim\n",
        "\n",
        "geolocator = Nominatim(user_agent=\"stemcoder\")\n",
        "Cr = geolocator.geocode(\"Costa Rica\")\n",
        "Jp = geolocator.geocode(\"Japan\")\n",
        "\n",
        "lat_cr = Cr.latitude\n",
        "lon_cr = Cr.longitude\n",
        "\n",
        "lat_jp = Jp.latitude\n",
        "lon_jp = Jp.longitude\n",
        "\n",
        "distance = geodesic((lat_cr, lon_cr),(lat_jp, lon_jp))\n",
        "\n",
        "japan_map=folium.Map(location=[lat_jp,lon_jp],zoom_start=7)\n",
        "\n",
        "japan_map.save(\"Japan.html\")\n",
        "files.download(\"Japan.html\")\n",
        "\n",
        "japan_map\n",
        "\n",
        "print(f\"La distancia entre las dos ubicaciones es de {distance}\")"
      ]
    }
  ]
}